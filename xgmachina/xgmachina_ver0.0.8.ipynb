{
 "cells": [
  {
   "cell_type": "markdown",
   "metadata": {},
   "source": [
    "特徴量の重みを正常に反映しているか確認するため、オッズ系統を全て抜いて学習させる。"
   ]
  },
  {
   "cell_type": "code",
   "execution_count": 1,
   "metadata": {},
   "outputs": [],
   "source": [
    "import numpy as np\n",
    "import pandas as pd\n",
    "from sklearn.model_selection import KFold\n",
    "from sklearn.metrics import mean_squared_error\n",
    "import xgboost as xgb\n",
    "from matplotlib import pyplot as plt\n",
    "import warnings\n",
    "warnings.simplefilter('ignore')"
   ]
  },
  {
   "cell_type": "code",
   "execution_count": 2,
   "metadata": {},
   "outputs": [],
   "source": [
    "data_dir = \"F:/TARGET frontier/TXT33/\"\n",
    "data_name = \"train\"\n",
    "tail = \"fe7\"\n",
    "train_data = pd.read_csv(data_dir+data_name+tail+\".csv\",encoding=\"shift-jis\",dtype={'レースID(旧)':str})"
   ]
  },
  {
   "cell_type": "code",
   "execution_count": 4,
   "metadata": {},
   "outputs": [
    {
     "data": {
      "text/html": [
       "<div>\n",
       "<style scoped>\n",
       "    .dataframe tbody tr th:only-of-type {\n",
       "        vertical-align: middle;\n",
       "    }\n",
       "\n",
       "    .dataframe tbody tr th {\n",
       "        vertical-align: top;\n",
       "    }\n",
       "\n",
       "    .dataframe thead th {\n",
       "        text-align: right;\n",
       "    }\n",
       "</style>\n",
       "<table border=\"1\" class=\"dataframe\">\n",
       "  <thead>\n",
       "    <tr style=\"text-align: right;\">\n",
       "      <th></th>\n",
       "      <th>場所</th>\n",
       "      <th>芝・ダ</th>\n",
       "      <th>距離</th>\n",
       "      <th>クラス名</th>\n",
       "      <th>馬場状態</th>\n",
       "      <th>騎手コード</th>\n",
       "      <th>枠番</th>\n",
       "      <th>性別</th>\n",
       "      <th>年齢</th>\n",
       "      <th>キャリア</th>\n",
       "      <th>斤量</th>\n",
       "      <th>間隔</th>\n",
       "      <th>休み明け〜戦目</th>\n",
       "      <th>種牡馬</th>\n",
       "      <th>父タイプ名</th>\n",
       "      <th>調教師コード</th>\n",
       "      <th>前走場所</th>\n",
       "      <th>前芝・ダ</th>\n",
       "      <th>前距離</th>\n",
       "      <th>前クラス名</th>\n",
       "      <th>前走馬場状態</th>\n",
       "      <th>前走騎手コード</th>\n",
       "      <th>前走枠番</th>\n",
       "      <th>前走脚質</th>\n",
       "      <th>前走斤量</th>\n",
       "      <th>前走Ave-3F</th>\n",
       "      <th>前走上り3F</th>\n",
       "      <th>前走PCI3</th>\n",
       "      <th>前走RPCI</th>\n",
       "      <th>前PCI</th>\n",
       "      <th>前好走</th>\n",
       "      <th>前走平均1Fタイム</th>\n",
       "      <th>前走着差タイム</th>\n",
       "      <th>前走単勝オッズ</th>\n",
       "      <th>着差</th>\n",
       "      <th>レースID(旧)</th>\n",
       "      <th>複勝オッズ下限</th>\n",
       "      <th>複勝オッズ上限</th>\n",
       "      <th>複勝配当</th>\n",
       "      <th>単勝オッズ</th>\n",
       "      <th>順位</th>\n",
       "      <th>頭数</th>\n",
       "      <th>場所距離芝ダ</th>\n",
       "      <th>場所距離芝ダ.1</th>\n",
       "    </tr>\n",
       "  </thead>\n",
       "  <tbody>\n",
       "    <tr>\n",
       "      <td>45955</td>\n",
       "      <td>2</td>\n",
       "      <td>2</td>\n",
       "      <td>1200</td>\n",
       "      <td>2</td>\n",
       "      <td>3</td>\n",
       "      <td>5212</td>\n",
       "      <td>7</td>\n",
       "      <td>1</td>\n",
       "      <td>4</td>\n",
       "      <td>19</td>\n",
       "      <td>55.0</td>\n",
       "      <td>3.0</td>\n",
       "      <td>6.0</td>\n",
       "      <td>452</td>\n",
       "      <td>8</td>\n",
       "      <td>1002</td>\n",
       "      <td>24</td>\n",
       "      <td>2</td>\n",
       "      <td>1200.0</td>\n",
       "      <td>2</td>\n",
       "      <td>2</td>\n",
       "      <td>1160.0</td>\n",
       "      <td>8.0</td>\n",
       "      <td>2</td>\n",
       "      <td>52.0</td>\n",
       "      <td>34.90</td>\n",
       "      <td>35.5</td>\n",
       "      <td>48.03</td>\n",
       "      <td>47.7</td>\n",
       "      <td>48.3</td>\n",
       "      <td>0</td>\n",
       "      <td>11.73</td>\n",
       "      <td>0.6</td>\n",
       "      <td>9.7</td>\n",
       "      <td>0.0</td>\n",
       "      <td>0616591114</td>\n",
       "      <td>1.6</td>\n",
       "      <td>2.4</td>\n",
       "      <td>200.0</td>\n",
       "      <td>6.1</td>\n",
       "      <td>1</td>\n",
       "      <td>16</td>\n",
       "      <td>55</td>\n",
       "      <td>132</td>\n",
       "    </tr>\n",
       "    <tr>\n",
       "      <td>45956</td>\n",
       "      <td>2</td>\n",
       "      <td>2</td>\n",
       "      <td>1200</td>\n",
       "      <td>2</td>\n",
       "      <td>3</td>\n",
       "      <td>641</td>\n",
       "      <td>3</td>\n",
       "      <td>2</td>\n",
       "      <td>3</td>\n",
       "      <td>9</td>\n",
       "      <td>56.0</td>\n",
       "      <td>5.0</td>\n",
       "      <td>4.0</td>\n",
       "      <td>574</td>\n",
       "      <td>5</td>\n",
       "      <td>420</td>\n",
       "      <td>13</td>\n",
       "      <td>2</td>\n",
       "      <td>1400.0</td>\n",
       "      <td>2</td>\n",
       "      <td>2</td>\n",
       "      <td>641.0</td>\n",
       "      <td>7.0</td>\n",
       "      <td>2</td>\n",
       "      <td>56.0</td>\n",
       "      <td>36.68</td>\n",
       "      <td>33.3</td>\n",
       "      <td>57.40</td>\n",
       "      <td>55.3</td>\n",
       "      <td>60.1</td>\n",
       "      <td>0</td>\n",
       "      <td>11.74</td>\n",
       "      <td>0.0</td>\n",
       "      <td>5.2</td>\n",
       "      <td>0.2</td>\n",
       "      <td>0616591105</td>\n",
       "      <td>1.4</td>\n",
       "      <td>1.8</td>\n",
       "      <td>160.0</td>\n",
       "      <td>4.3</td>\n",
       "      <td>2</td>\n",
       "      <td>16</td>\n",
       "      <td>55</td>\n",
       "      <td>37</td>\n",
       "    </tr>\n",
       "    <tr>\n",
       "      <td>45957</td>\n",
       "      <td>2</td>\n",
       "      <td>2</td>\n",
       "      <td>1200</td>\n",
       "      <td>2</td>\n",
       "      <td>3</td>\n",
       "      <td>5203</td>\n",
       "      <td>4</td>\n",
       "      <td>1</td>\n",
       "      <td>4</td>\n",
       "      <td>23</td>\n",
       "      <td>55.0</td>\n",
       "      <td>7.0</td>\n",
       "      <td>7.0</td>\n",
       "      <td>406</td>\n",
       "      <td>6</td>\n",
       "      <td>1089</td>\n",
       "      <td>17</td>\n",
       "      <td>2</td>\n",
       "      <td>1200.0</td>\n",
       "      <td>2</td>\n",
       "      <td>3</td>\n",
       "      <td>1095.0</td>\n",
       "      <td>8.0</td>\n",
       "      <td>3</td>\n",
       "      <td>54.0</td>\n",
       "      <td>33.50</td>\n",
       "      <td>35.7</td>\n",
       "      <td>49.43</td>\n",
       "      <td>44.9</td>\n",
       "      <td>43.8</td>\n",
       "      <td>0</td>\n",
       "      <td>11.53</td>\n",
       "      <td>1.0</td>\n",
       "      <td>29.2</td>\n",
       "      <td>0.3</td>\n",
       "      <td>0616591107</td>\n",
       "      <td>10.0</td>\n",
       "      <td>16.5</td>\n",
       "      <td>1150.0</td>\n",
       "      <td>76.0</td>\n",
       "      <td>3</td>\n",
       "      <td>16</td>\n",
       "      <td>55</td>\n",
       "      <td>72</td>\n",
       "    </tr>\n",
       "    <tr>\n",
       "      <td>45958</td>\n",
       "      <td>2</td>\n",
       "      <td>2</td>\n",
       "      <td>1200</td>\n",
       "      <td>2</td>\n",
       "      <td>3</td>\n",
       "      <td>663</td>\n",
       "      <td>8</td>\n",
       "      <td>2</td>\n",
       "      <td>5</td>\n",
       "      <td>22</td>\n",
       "      <td>57.0</td>\n",
       "      <td>8.0</td>\n",
       "      <td>4.0</td>\n",
       "      <td>446</td>\n",
       "      <td>4</td>\n",
       "      <td>1102</td>\n",
       "      <td>13</td>\n",
       "      <td>2</td>\n",
       "      <td>1400.0</td>\n",
       "      <td>2</td>\n",
       "      <td>3</td>\n",
       "      <td>663.0</td>\n",
       "      <td>8.0</td>\n",
       "      <td>4</td>\n",
       "      <td>57.0</td>\n",
       "      <td>37.05</td>\n",
       "      <td>33.7</td>\n",
       "      <td>58.23</td>\n",
       "      <td>56.4</td>\n",
       "      <td>59.9</td>\n",
       "      <td>0</td>\n",
       "      <td>11.87</td>\n",
       "      <td>0.4</td>\n",
       "      <td>63.8</td>\n",
       "      <td>0.3</td>\n",
       "      <td>0616591116</td>\n",
       "      <td>11.4</td>\n",
       "      <td>18.8</td>\n",
       "      <td>0.0</td>\n",
       "      <td>74.6</td>\n",
       "      <td>4</td>\n",
       "      <td>16</td>\n",
       "      <td>55</td>\n",
       "      <td>37</td>\n",
       "    </tr>\n",
       "    <tr>\n",
       "      <td>45959</td>\n",
       "      <td>2</td>\n",
       "      <td>2</td>\n",
       "      <td>1200</td>\n",
       "      <td>2</td>\n",
       "      <td>3</td>\n",
       "      <td>1043</td>\n",
       "      <td>6</td>\n",
       "      <td>1</td>\n",
       "      <td>3</td>\n",
       "      <td>22</td>\n",
       "      <td>54.0</td>\n",
       "      <td>4.0</td>\n",
       "      <td>NaN</td>\n",
       "      <td>402</td>\n",
       "      <td>8</td>\n",
       "      <td>421</td>\n",
       "      <td>13</td>\n",
       "      <td>2</td>\n",
       "      <td>1400.0</td>\n",
       "      <td>2</td>\n",
       "      <td>3</td>\n",
       "      <td>1043.0</td>\n",
       "      <td>6.0</td>\n",
       "      <td>2</td>\n",
       "      <td>54.0</td>\n",
       "      <td>37.20</td>\n",
       "      <td>34.0</td>\n",
       "      <td>58.37</td>\n",
       "      <td>56.9</td>\n",
       "      <td>59.4</td>\n",
       "      <td>0</td>\n",
       "      <td>11.94</td>\n",
       "      <td>0.4</td>\n",
       "      <td>16.3</td>\n",
       "      <td>0.4</td>\n",
       "      <td>0616591111</td>\n",
       "      <td>3.7</td>\n",
       "      <td>5.9</td>\n",
       "      <td>0.0</td>\n",
       "      <td>17.6</td>\n",
       "      <td>5</td>\n",
       "      <td>16</td>\n",
       "      <td>55</td>\n",
       "      <td>37</td>\n",
       "    </tr>\n",
       "  </tbody>\n",
       "</table>\n",
       "</div>"
      ],
      "text/plain": [
       "       場所  芝・ダ    距離  クラス名  馬場状態  騎手コード  枠番  性別  年齢  キャリア    斤量   間隔  休み明け〜戦目  \\\n",
       "45955   2    2  1200     2     3   5212   7   1   4    19  55.0  3.0      6.0   \n",
       "45956   2    2  1200     2     3    641   3   2   3     9  56.0  5.0      4.0   \n",
       "45957   2    2  1200     2     3   5203   4   1   4    23  55.0  7.0      7.0   \n",
       "45958   2    2  1200     2     3    663   8   2   5    22  57.0  8.0      4.0   \n",
       "45959   2    2  1200     2     3   1043   6   1   3    22  54.0  4.0      NaN   \n",
       "\n",
       "       種牡馬  父タイプ名  調教師コード  前走場所  前芝・ダ     前距離  前クラス名  前走馬場状態  前走騎手コード  前走枠番  \\\n",
       "45955  452      8    1002    24     2  1200.0      2       2   1160.0   8.0   \n",
       "45956  574      5     420    13     2  1400.0      2       2    641.0   7.0   \n",
       "45957  406      6    1089    17     2  1200.0      2       3   1095.0   8.0   \n",
       "45958  446      4    1102    13     2  1400.0      2       3    663.0   8.0   \n",
       "45959  402      8     421    13     2  1400.0      2       3   1043.0   6.0   \n",
       "\n",
       "       前走脚質  前走斤量  前走Ave-3F  前走上り3F  前走PCI3  前走RPCI  前PCI  前好走  前走平均1Fタイム  \\\n",
       "45955     2  52.0     34.90    35.5   48.03    47.7  48.3    0      11.73   \n",
       "45956     2  56.0     36.68    33.3   57.40    55.3  60.1    0      11.74   \n",
       "45957     3  54.0     33.50    35.7   49.43    44.9  43.8    0      11.53   \n",
       "45958     4  57.0     37.05    33.7   58.23    56.4  59.9    0      11.87   \n",
       "45959     2  54.0     37.20    34.0   58.37    56.9  59.4    0      11.94   \n",
       "\n",
       "       前走着差タイム  前走単勝オッズ   着差    レースID(旧)  複勝オッズ下限  複勝オッズ上限    複勝配当  単勝オッズ  順位  \\\n",
       "45955      0.6      9.7  0.0  0616591114      1.6      2.4   200.0    6.1   1   \n",
       "45956      0.0      5.2  0.2  0616591105      1.4      1.8   160.0    4.3   2   \n",
       "45957      1.0     29.2  0.3  0616591107     10.0     16.5  1150.0   76.0   3   \n",
       "45958      0.4     63.8  0.3  0616591116     11.4     18.8     0.0   74.6   4   \n",
       "45959      0.4     16.3  0.4  0616591111      3.7      5.9     0.0   17.6   5   \n",
       "\n",
       "       頭数  場所距離芝ダ  場所距離芝ダ.1  \n",
       "45955  16      55       132  \n",
       "45956  16      55        37  \n",
       "45957  16      55        72  \n",
       "45958  16      55        37  \n",
       "45959  16      55        37  "
      ]
     },
     "execution_count": 4,
     "metadata": {},
     "output_type": "execute_result"
    }
   ],
   "source": [
    "pd.set_option('display.max_columns', 100)\n",
    "train_data.head()"
   ]
  },
  {
   "cell_type": "code",
   "execution_count": 5,
   "metadata": {},
   "outputs": [],
   "source": [
    "#test_data\n",
    "test_data = pd.read_csv(data_dir+\"predict\"+tail+\".csv\",encoding=\"shift-jis\",dtype={'レースID(旧)':str})\n",
    "test_x = test_data.drop([\"着差\",\"レースID(旧)\",\"複勝オッズ下限\",\"複勝オッズ上限\",\"複勝配当\",\"順位\",],axis=1)\n",
    "test_y = test_data[\"順位\"]"
   ]
  },
  {
   "cell_type": "code",
   "execution_count": 6,
   "metadata": {},
   "outputs": [],
   "source": [
    "train_x = train_data.drop([\"着差\",\"レースID(旧)\",\"複勝オッズ下限\",\"複勝オッズ上限\",\"複勝配当\",\"順位\"],axis=1)\n",
    "train_y = train_data[\"順位\"]"
   ]
  },
  {
   "cell_type": "code",
   "execution_count": 7,
   "metadata": {},
   "outputs": [
    {
     "data": {
      "text/plain": [
       "Index(['場所', '芝・ダ', '距離', 'クラス名', '馬場状態', '騎手コード', '枠番', '性別', '年齢', 'キャリア',\n",
       "       '斤量', '間隔', '休み明け〜戦目', '種牡馬', '父タイプ名', '調教師コード', '前走場所', '前芝・ダ', '前距離',\n",
       "       '前クラス名', '前走馬場状態', '前走騎手コード', '前走枠番', '前走脚質', '前走斤量', '前走Ave-3F',\n",
       "       '前走上り3F', '前走PCI3', '前走RPCI', '前PCI', '前好走', '前走平均1Fタイム', '前走着差タイム',\n",
       "       '前走単勝オッズ', '単勝オッズ', '頭数', '場所距離芝ダ', '場所距離芝ダ.1'],\n",
       "      dtype='object')"
      ]
     },
     "execution_count": 7,
     "metadata": {},
     "output_type": "execute_result"
    }
   ],
   "source": [
    "train_x.columns"
   ]
  },
  {
   "cell_type": "code",
   "execution_count": 8,
   "metadata": {},
   "outputs": [],
   "source": [
    "#チューニング済みパラメータ(etaのみ手動)\n",
    "params = {'colsample_bytree': 0.65, \n",
    "          'gamma': 0.013439667332810353, \n",
    "          'max_depth': 5, \n",
    "          'min_child_weight': 2.663317188920419, \n",
    "          'subsample': 0.9, \n",
    "          'booster': 'gbtree', \n",
    "          'objective': 'reg:squarederror', \n",
    "          'eta': 0.01, \n",
    "          'alpha': 0.0, \n",
    "          'lambda': 1.0, \n",
    "          'random_state': 71}"
   ]
  },
  {
   "cell_type": "code",
   "execution_count": 9,
   "metadata": {},
   "outputs": [],
   "source": [
    "#これがないとエラー履くので注意\n",
    "train_y.fillna(10,inplace=True) #無ければ10位に\n",
    "test_y.fillna(10,inplace=True)"
   ]
  },
  {
   "cell_type": "code",
   "execution_count": 10,
   "metadata": {},
   "outputs": [
    {
     "name": "stdout",
     "output_type": "stream",
     "text": [
      "[0]\ttrain-rmse:8.50083\teval-rmse:8.62666\n",
      "Multiple eval metrics have been passed: 'eval-rmse' will be used for early stopping.\n",
      "\n",
      "Will train until eval-rmse hasn't improved in 100 rounds.\n",
      "[500]\ttrain-rmse:3.43379\teval-rmse:3.54018\n",
      "[1000]\ttrain-rmse:3.38133\teval-rmse:3.5222\n",
      "[1500]\ttrain-rmse:3.34636\teval-rmse:3.51674\n",
      "[2000]\ttrain-rmse:3.31543\teval-rmse:3.51444\n",
      "[2500]\ttrain-rmse:3.28689\teval-rmse:3.51315\n",
      "[3000]\ttrain-rmse:3.25883\teval-rmse:3.51225\n",
      "Stopping. Best iteration:\n",
      "[3090]\ttrain-rmse:3.25377\teval-rmse:3.5121\n",
      "\n",
      "[0]\ttrain-rmse:8.53953\teval-rmse:8.54986\n",
      "Multiple eval metrics have been passed: 'eval-rmse' will be used for early stopping.\n",
      "\n",
      "Will train until eval-rmse hasn't improved in 100 rounds.\n",
      "[500]\ttrain-rmse:3.44715\teval-rmse:3.51202\n",
      "[1000]\ttrain-rmse:3.39515\teval-rmse:3.49347\n",
      "[1500]\ttrain-rmse:3.36026\teval-rmse:3.48881\n",
      "[2000]\ttrain-rmse:3.32899\teval-rmse:3.4866\n",
      "[2500]\ttrain-rmse:3.29963\teval-rmse:3.48601\n",
      "Stopping. Best iteration:\n",
      "[2598]\ttrain-rmse:3.29434\teval-rmse:3.48584\n",
      "\n",
      "[0]\ttrain-rmse:8.58737\teval-rmse:8.45064\n",
      "Multiple eval metrics have been passed: 'eval-rmse' will be used for early stopping.\n",
      "\n",
      "Will train until eval-rmse hasn't improved in 100 rounds.\n",
      "[500]\ttrain-rmse:3.48276\teval-rmse:3.43537\n",
      "[1000]\ttrain-rmse:3.42919\teval-rmse:3.42253\n",
      "[1500]\ttrain-rmse:3.39245\teval-rmse:3.41842\n",
      "[2000]\ttrain-rmse:3.36124\teval-rmse:3.41666\n",
      "[2500]\ttrain-rmse:3.33181\teval-rmse:3.41589\n",
      "Stopping. Best iteration:\n",
      "[2575]\ttrain-rmse:3.32745\teval-rmse:3.4157\n",
      "\n",
      "3.5121543868959955 3.485885651971923 3.415817738850201\n",
      "3.47128592590604\n"
     ]
    }
   ],
   "source": [
    "scores = []\n",
    "histories = []\n",
    "models = []\n",
    "y = pd.Series()\n",
    "kf = KFold(n_splits=4,shuffle=False)\n",
    "for tr_idx,va_idx in kf.split(train_x):\n",
    "    tr_x, va_x = train_x.iloc[tr_idx], train_x.iloc[va_idx]\n",
    "    tr_y, va_y = train_y.iloc[tr_idx], train_y.iloc[va_idx]\n",
    "    dtrain = xgb.DMatrix(tr_x,label=tr_y)\n",
    "    dvalid = xgb.DMatrix(va_x,label=va_y)\n",
    "    watchlist = [(dtrain,\"train\"),(dvalid,\"eval\")]\n",
    "    evals_result = {}\n",
    "    model = xgb.train(\n",
    "        params,\n",
    "        dtrain,\n",
    "        num_boost_round=10000,\n",
    "        early_stopping_rounds=100,\n",
    "        evals=watchlist,\n",
    "        evals_result=evals_result,\n",
    "        verbose_eval=500\n",
    "    )\n",
    "    models.append(model)\n",
    "    histories.append(evals_result)\n",
    "    va_pred = model.predict(dvalid)\n",
    "    va_y.fillna(0.5,inplace=True)\n",
    "    score = mean_squared_error(va_y,va_pred)\n",
    "    score = np.sqrt(mean_squared_error(va_y,va_pred)) #rmse\n",
    "    scores.append(score)\n",
    "    \n",
    "    #evaluationさせる\n",
    "    #全部のfoldについてyに入れておいて、\n",
    "    y_pred_proba = model.predict(dvalid)\n",
    "    y = pd.concat([y,pd.Series(y_pred_proba)])\n",
    "\n",
    "\n",
    "output = train_data\n",
    "output = output.assign(ya=y.values)\n",
    "output[\"複勝配当\"] = output[\"複勝配当\"].astype(\"int64\")\n",
    "output.to_csv(\"C:/programs/HRP/kfeval.csv\",index=False,encoding=\"shift-jis\")\n",
    "    \n",
    "print(*scores)\n",
    "print(np.mean(scores))"
   ]
  },
  {
   "cell_type": "code",
   "execution_count": 10,
   "metadata": {},
   "outputs": [],
   "source": [
    "#学習結果のプロット\n",
    "%matplotlib inline\n",
    "def plot_loss(evals_result, title):\n",
    "    train_metric = evals_result['train']['rmse']\n",
    "    plt.plot(train_metric, label='train rmse')\n",
    "    eval_metric = evals_result['eval']['rmse']\n",
    "    plt.plot(eval_metric, label='eval rmse')\n",
    "    plt.grid()\n",
    "    plt.legend()\n",
    "    plt.title(title)\n",
    "    plt.xlabel('rounds')\n",
    "    plt.ylabel('rmse')\n",
    "    plt.show()"
   ]
  },
  {
   "cell_type": "code",
   "execution_count": 11,
   "metadata": {},
   "outputs": [
    {
     "data": {
      "image/png": "[encoded data removed]",
      "text/plain": [
       "<Figure size 432x288 with 1 Axes>"
      ]
     },
     "metadata": {
      "needs_background": "light"
     },
     "output_type": "display_data"
    },
    {
     "data": {
      "image/png": "[encoded data removed]",
      "text/plain": [
       "<Figure size 432x288 with 1 Axes>"
      ]
     },
     "metadata": {
      "needs_background": "light"
     },
     "output_type": "display_data"
    },
    {
     "data": {
      "image/png": "[encoded data removed]",
      "text/plain": [
       "<Figure size 432x288 with 1 Axes>"
      ]
     },
     "metadata": {
      "needs_background": "light"
     },
     "output_type": "display_data"
    },
    {
     "data": {
      "image/png": "[encoded data removed]",
      "text/plain": [
       "<Figure size 432x288 with 1 Axes>"
      ]
     },
     "metadata": {
      "needs_background": "light"
     },
     "output_type": "display_data"
    }
   ],
   "source": [
    "for i in range(4):\n",
    "    plot_loss(histories[i],f'Training Dataset: {i}')"
   ]
  },
  {
   "cell_type": "code",
   "execution_count": 11,
   "metadata": {},
   "outputs": [],
   "source": [
    "test_length = len(test_data)\n",
    "predict = np.array([0.0]*test_length)\n",
    "dtest = xgb.DMatrix(test_x,label=test_y) #本来は学習に使用していないデータにする\n",
    "for i in range(4):\n",
    "    y_pred_proba = models[i].predict(dtest)\n",
    "    predict += y_pred_proba\n",
    "\n",
    "predict /= 4"
   ]
  },
  {
   "cell_type": "code",
   "execution_count": 12,
   "metadata": {},
   "outputs": [],
   "source": [
    "y = pd.DataFrame(predict,columns=[\"y'\"])\n",
    "output = test_data #ここも書き換えること\n",
    "\n",
    "output = pd.concat([output,y],axis=1)\n",
    "\n",
    "output[\"複勝配当\"] = output[\"複勝配当\"].astype(\"int64\")\n",
    "output.to_csv(\"C:/programs/HRP/neweval5.csv\",index=False,encoding=\"shift-jis\")"
   ]
  },
  {
   "cell_type": "code",
   "execution_count": 14,
   "metadata": {},
   "outputs": [
    {
     "name": "stdout",
     "output_type": "stream",
     "text": [
      "('単勝オッズ', 33625198.84694131) ('頭数', 4884162.663115621) ('前走単勝オッズ', 3971601.806920225) ('前走着差タイム', 1671724.0808191206) ('前好走', 1360848.5434570403) ('間隔', 820480.3537933639) ('前走Ave-3F', 568300.2932567237) ('前PCI', 450946.7091337878) ('騎手コード', 450545.8458690553) ('前走脚質', 448625.8918269801) ('前走平均1Fタイム', 448078.8476243465) ('前走PCI3', 443110.9660966608) ('前距離', 442730.7420753297) ('休み明け〜戦目', 417648.8073510373) ('前走上り3F', 411326.84237903607) ('種牡馬', 405492.84820740944) ('クラス名', 385450.3439564563) ('キャリア', 372780.5077319239) ('調教師コード', 346102.07827667636) ('前走騎手コード', 316182.0840835011)\n"
     ]
    }
   ],
   "source": [
    "fscore = model.get_score(importance_type=\"total_gain\")\n",
    "fscore = sorted([(k,v) for k,v in fscore.items()] ,key=lambda tpl: tpl[1], reverse = True)\n",
    "print(*fscore[:20])"
   ]
  },
  {
   "cell_type": "code",
   "execution_count": 15,
   "metadata": {},
   "outputs": [
    {
     "name": "stdout",
     "output_type": "stream",
     "text": [
      "単勝オッズ 60.9\n",
      "頭数 8.8\n",
      "前走単勝オッズ 7.2\n",
      "前走着差タイム 3.0\n",
      "前好走 2.5\n",
      "間隔 1.5\n",
      "前走Ave-3F 1.0\n",
      "前PCI 0.8\n",
      "騎手コード 0.8\n",
      "前走脚質 0.8\n",
      "前走平均1Fタイム 0.8\n",
      "前走PCI3 0.8\n",
      "前距離 0.8\n",
      "休み明け〜戦目 0.8\n",
      "前走上り3F 0.7\n",
      "種牡馬 0.7\n",
      "クラス名 0.7\n",
      "キャリア 0.7\n",
      "調教師コード 0.6\n",
      "前走騎手コード 0.6\n",
      "前クラス名 0.6\n",
      "前走RPCI 0.6\n",
      "距離 0.5\n",
      "場所距離芝ダ 0.4\n",
      "芝・ダ 0.4\n"
     ]
    }
   ],
   "source": [
    "#全体を100[%]とした時の重要度\n",
    "mother = sum([j for i,j in fscore])\n",
    "for i,j in fscore[:25]:\n",
    "    print(i,round((j/mother)*100,1))"
   ]
  },
  {
   "cell_type": "code",
   "execution_count": 16,
   "metadata": {},
   "outputs": [
    {
     "data": {
      "image/png": "[encoded data removed]",
      "text/plain": [
       "<Figure size 640x480 with 1 Axes>"
      ]
     },
     "metadata": {},
     "output_type": "display_data"
    }
   ],
   "source": [
    "slen = 20\n",
    "label = []\n",
    "weight = []\n",
    "for i,j in fscore[:slen]:\n",
    "    label.append(i)\n",
    "    weight.append(j)\n",
    "\n",
    "plt.rcdefaults() #横棒グラフモード\n",
    "fig, ax = plt.subplots()\n",
    "y_pos = np.arange(slen)\n",
    "ax.barh(y_pos, weight,align='center')\n",
    "ax.set_yticks(y_pos)\n",
    "ax.set_yticklabels(label)\n",
    "ax.invert_yaxis()\n",
    "ax.set_xlabel('label')\n",
    "ax.set_title('xgboost特徴量')\n",
    "plt.show()\n",
    "    "
   ]
  },
  {
   "cell_type": "code",
   "execution_count": 17,
   "metadata": {},
   "outputs": [],
   "source": [
    "#save models\n",
    "import pickle\n",
    "with open('xgmachina_ver0.0.7.pickle', mode='wb') as fp:\n",
    "    pickle.dump(models, fp)"
   ]
  },
  {
   "cell_type": "code",
   "execution_count": 18,
   "metadata": {},
   "outputs": [
    {
     "data": {
      "text/plain": [
       "\"import pickle\\nwith open('xgmachina_ver0.0.6.pickle', mode='rb') as fp:\\n    models = pickle.load(fp)\""
      ]
     },
     "execution_count": 18,
     "metadata": {},
     "output_type": "execute_result"
    }
   ],
   "source": [
    "#import models\n",
    "\"\"\"import pickle\n",
    "with open('xgmachina_ver0.0.6.pickle', mode='rb') as fp:\n",
    "    models = pickle.load(fp)\"\"\""
   ]
  }
 ],
 "metadata": {
  "kernelspec": {
   "display_name": "Python 3",
   "language": "python",
   "name": "python3"
  },
  "language_info": {
   "codemirror_mode": {
    "name": "ipython",
    "version": 3
   },
   "file_extension": ".py",
   "mimetype": "text/x-python",
   "name": "python",
   "nbconvert_exporter": "python",
   "pygments_lexer": "ipython3",
   "version": "3.7.4"
  }
 },
 "nbformat": 4,
 "nbformat_minor": 4
}
